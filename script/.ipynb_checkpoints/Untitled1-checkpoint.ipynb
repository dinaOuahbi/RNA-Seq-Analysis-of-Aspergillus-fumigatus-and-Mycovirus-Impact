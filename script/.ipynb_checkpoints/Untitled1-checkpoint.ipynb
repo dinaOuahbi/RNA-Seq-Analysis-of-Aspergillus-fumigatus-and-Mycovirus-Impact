{
 "cells": [
  {
   "cell_type": "code",
   "execution_count": 10,
   "id": "51f5f058-9566-4f56-8325-3fb7f405f8f5",
   "metadata": {},
   "outputs": [],
   "source": [
    "import PyPDF2\n",
    "import os\n",
    "def merge_pdfs(paths, output):\n",
    "    merger = PyPDF2.PdfMerger()\n",
    "    for path in paths:\n",
    "        merger.append(f'{path}')\n",
    "    merger.write(output)\n",
    "    merger.close()"
   ]
  },
  {
   "cell_type": "code",
   "execution_count": null,
   "id": "0f84d8eb-2e24-4d2e-b1e5-05fc9c2c392e",
   "metadata": {},
   "outputs": [],
   "source": [
    "root = '../PEA/imgs/'\n",
    "barplots = [f'{root}barplot/{i}' for i in os.listdir(f\"{root}barplot\")]\n",
    "enrichment = [f'{root}enrichment/{i}' for i in os.listdir(f\"{root}enrichment\")]\n",
    "GseaTable = [f'{root}GseaTable/{i}' for i in os.listdir(f\"{root}GseaTable\")]\n",
    "# Merge the PDFs\n",
    "output = \"../stack_plots/\"\n",
    "try:\n",
    "    os.mkdir(output)\n",
    "except:\n",
    "    pass\n",
    "\n",
    "merge_pdfs(pdf_files, f\"{output}merged_barplots.pdf\")\n",
    "merge_pdfs(enrichment, f\"{output}merged_enrichment.pdf\")\n",
    "merge_pdfs(GseaTable, f\"{output}merged_GseaTable.pdf\")\n",
    "print(\"PDFs merged successfully.\")"
   ]
  }
 ],
 "metadata": {
  "kernelspec": {
   "display_name": "Python 3.9",
   "language": "python",
   "name": "python3.9"
  },
  "language_info": {
   "codemirror_mode": {
    "name": "ipython",
    "version": 3
   },
   "file_extension": ".py",
   "mimetype": "text/x-python",
   "name": "python",
   "nbconvert_exporter": "python",
   "pygments_lexer": "ipython3",
   "version": "3.9.15"
  }
 },
 "nbformat": 4,
 "nbformat_minor": 5
}
