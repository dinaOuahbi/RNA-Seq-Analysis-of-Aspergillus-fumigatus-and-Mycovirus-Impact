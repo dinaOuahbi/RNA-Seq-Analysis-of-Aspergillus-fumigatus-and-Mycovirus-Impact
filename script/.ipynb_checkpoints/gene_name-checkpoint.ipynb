{
 "cells": [
  {
   "cell_type": "code",
   "execution_count": 4,
   "metadata": {},
   "outputs": [
    {
     "data": {
      "text/html": [
       "<div>\n",
       "<style scoped>\n",
       "    .dataframe tbody tr th:only-of-type {\n",
       "        vertical-align: middle;\n",
       "    }\n",
       "\n",
       "    .dataframe tbody tr th {\n",
       "        vertical-align: top;\n",
       "    }\n",
       "\n",
       "    .dataframe thead th {\n",
       "        text-align: right;\n",
       "    }\n",
       "</style>\n",
       "<table border=\"1\" class=\"dataframe\">\n",
       "  <thead>\n",
       "    <tr style=\"text-align: right;\">\n",
       "      <th></th>\n",
       "      <th>NCBI GeneID</th>\n",
       "      <th>Symbol</th>\n",
       "      <th>Description</th>\n",
       "      <th>Taxonomic Name</th>\n",
       "      <th>Common Name</th>\n",
       "    </tr>\n",
       "  </thead>\n",
       "  <tbody>\n",
       "    <tr>\n",
       "      <th>0</th>\n",
       "      <td>3509526</td>\n",
       "      <td>AFUA_4G06890</td>\n",
       "      <td>14-alpha sterol demethylase Cyp51A</td>\n",
       "      <td>Aspergillus fumigatus Af293</td>\n",
       "      <td>NaN</td>\n",
       "    </tr>\n",
       "    <tr>\n",
       "      <th>1</th>\n",
       "      <td>3513640</td>\n",
       "      <td>AFUA_2G07680</td>\n",
       "      <td>L-ornithine N5-oxygenase SidA</td>\n",
       "      <td>Aspergillus fumigatus Af293</td>\n",
       "      <td>NaN</td>\n",
       "    </tr>\n",
       "    <tr>\n",
       "      <th>2</th>\n",
       "      <td>3511045</td>\n",
       "      <td>AFUA_5G09360</td>\n",
       "      <td>calcineurin catalytic subunit CnaA</td>\n",
       "      <td>Aspergillus fumigatus Af293</td>\n",
       "      <td>NaN</td>\n",
       "    </tr>\n",
       "    <tr>\n",
       "      <th>3</th>\n",
       "      <td>3508160</td>\n",
       "      <td>AFUA_6G09660</td>\n",
       "      <td>nonribosomal peptide synthase GliP</td>\n",
       "      <td>Aspergillus fumigatus Af293</td>\n",
       "      <td>NaN</td>\n",
       "    </tr>\n",
       "    <tr>\n",
       "      <th>4</th>\n",
       "      <td>3508187</td>\n",
       "      <td>AFUA_6G09930</td>\n",
       "      <td>bZIP transcription factor AP-1/Yap1, putative</td>\n",
       "      <td>Aspergillus fumigatus Af293</td>\n",
       "      <td>NaN</td>\n",
       "    </tr>\n",
       "    <tr>\n",
       "      <th>...</th>\n",
       "      <td>...</td>\n",
       "      <td>...</td>\n",
       "      <td>...</td>\n",
       "      <td>...</td>\n",
       "      <td>...</td>\n",
       "    </tr>\n",
       "    <tr>\n",
       "      <th>9910</th>\n",
       "      <td>3513517</td>\n",
       "      <td>AFUA_2G16845</td>\n",
       "      <td>tRNA-Thr</td>\n",
       "      <td>Aspergillus fumigatus Af293</td>\n",
       "      <td>NaN</td>\n",
       "    </tr>\n",
       "    <tr>\n",
       "      <th>9911</th>\n",
       "      <td>3513546</td>\n",
       "      <td>AFUA_2G15835</td>\n",
       "      <td>tRNA-Lys</td>\n",
       "      <td>Aspergillus fumigatus Af293</td>\n",
       "      <td>NaN</td>\n",
       "    </tr>\n",
       "    <tr>\n",
       "      <th>9912</th>\n",
       "      <td>3513656</td>\n",
       "      <td>AFUA_2G10245</td>\n",
       "      <td>tRNA-Glu</td>\n",
       "      <td>Aspergillus fumigatus Af293</td>\n",
       "      <td>NaN</td>\n",
       "    </tr>\n",
       "    <tr>\n",
       "      <th>9913</th>\n",
       "      <td>3513672</td>\n",
       "      <td>AFUA_2G17725</td>\n",
       "      <td>tRNA-Met</td>\n",
       "      <td>Aspergillus fumigatus Af293</td>\n",
       "      <td>NaN</td>\n",
       "    </tr>\n",
       "    <tr>\n",
       "      <th>9914</th>\n",
       "      <td>5077246</td>\n",
       "      <td>AFUA_7G02330</td>\n",
       "      <td>tRNA-Lys</td>\n",
       "      <td>Aspergillus fumigatus Af293</td>\n",
       "      <td>NaN</td>\n",
       "    </tr>\n",
       "  </tbody>\n",
       "</table>\n",
       "<p>9915 rows × 5 columns</p>\n",
       "</div>"
      ],
      "text/plain": [
       "      NCBI GeneID        Symbol  \\\n",
       "0         3509526  AFUA_4G06890   \n",
       "1         3513640  AFUA_2G07680   \n",
       "2         3511045  AFUA_5G09360   \n",
       "3         3508160  AFUA_6G09660   \n",
       "4         3508187  AFUA_6G09930   \n",
       "...           ...           ...   \n",
       "9910      3513517  AFUA_2G16845   \n",
       "9911      3513546  AFUA_2G15835   \n",
       "9912      3513656  AFUA_2G10245   \n",
       "9913      3513672  AFUA_2G17725   \n",
       "9914      5077246  AFUA_7G02330   \n",
       "\n",
       "                                        Description  \\\n",
       "0                14-alpha sterol demethylase Cyp51A   \n",
       "1                     L-ornithine N5-oxygenase SidA   \n",
       "2                calcineurin catalytic subunit CnaA   \n",
       "3                nonribosomal peptide synthase GliP   \n",
       "4     bZIP transcription factor AP-1/Yap1, putative   \n",
       "...                                             ...   \n",
       "9910                                       tRNA-Thr   \n",
       "9911                                       tRNA-Lys   \n",
       "9912                                       tRNA-Glu   \n",
       "9913                                       tRNA-Met   \n",
       "9914                                       tRNA-Lys   \n",
       "\n",
       "                   Taxonomic Name  Common Name  \n",
       "0     Aspergillus fumigatus Af293          NaN  \n",
       "1     Aspergillus fumigatus Af293          NaN  \n",
       "2     Aspergillus fumigatus Af293          NaN  \n",
       "3     Aspergillus fumigatus Af293          NaN  \n",
       "4     Aspergillus fumigatus Af293          NaN  \n",
       "...                           ...          ...  \n",
       "9910  Aspergillus fumigatus Af293          NaN  \n",
       "9911  Aspergillus fumigatus Af293          NaN  \n",
       "9912  Aspergillus fumigatus Af293          NaN  \n",
       "9913  Aspergillus fumigatus Af293          NaN  \n",
       "9914  Aspergillus fumigatus Af293          NaN  \n",
       "\n",
       "[9915 rows x 5 columns]"
      ]
     },
     "execution_count": 4,
     "metadata": {},
     "output_type": "execute_result"
    }
   ],
   "source": [
    "\n",
    "# Read Text Files with Pandas using read_csv()\n",
    " \n",
    "# importing pandas\n",
    "import pandas as pd\n",
    " \n",
    "# read text file into pandas DataFrame\n",
    "names = pd.read_table(\"Af293_geneName.tsv\")\n",
    " \n",
    "# display DataFrame\n",
    "names"
   ]
  },
  {
   "cell_type": "code",
   "execution_count": 22,
   "metadata": {},
   "outputs": [],
   "source": [
    "import os\n",
    "try:\n",
    "    os.mkdir('deseq_v2')\n",
    "except:\n",
    "    pass"
   ]
  },
  {
   "cell_type": "code",
   "execution_count": 5,
   "metadata": {},
   "outputs": [],
   "source": [
    "def get_desc(root, data_name, out):\n",
    "    print('-'*50, data_name)\n",
    "    df = pd.read_csv(f'{root}/{data_name}.csv', sep=';')\n",
    "    df.rename(columns={'Unnamed: 0':'Symbol'}, inplace=True)\n",
    "    df.Symbol = [i.split(':')[1].strip() for i in df.Symbol]\n",
    "\n",
    "    print(\n",
    "    names.shape,\n",
    "    df.shape\n",
    "    )\n",
    "    final = pd.merge(names, df, how='inner',on='Symbol')\n",
    "    final.to_csv(f'{out}/{data_name}.csv')\n",
    "    "
   ]
  },
  {
   "cell_type": "code",
   "execution_count": 28,
   "metadata": {},
   "outputs": [
    {
     "name": "stdout",
     "output_type": "stream",
     "text": [
      "-------------------------------------------------- azoleR_yes_vs_no\n",
      "(9915, 5) (9859, 7)\n",
      "-------------------------------------------------- condition_infected_vs_virusfree\n",
      "(9915, 5) (9859, 7)\n",
      "-------------------------------------------------- condition_infected_vs_virusfree_API\n",
      "(9915, 5) (9859, 7)\n",
      "-------------------------------------------------- condition_infected_vs_virusfree_COL\n",
      "(9915, 5) (9859, 7)\n",
      "-------------------------------------------------- condition_infected_vs_virusfree_ENV\n",
      "(9915, 5) (9859, 7)\n",
      "-------------------------------------------------- group_api_vs_env\n",
      "(9915, 5) (9859, 7)\n",
      "-------------------------------------------------- group_col_vs_api\n",
      "(9915, 5) (9859, 7)\n",
      "-------------------------------------------------- group_col_vs_env\n",
      "(9915, 5) (9859, 7)\n",
      "-------------------------------------------------- mycovirus_virusfree_vs_botourmiavirus1\n",
      "(9915, 5) (9859, 7)\n",
      "-------------------------------------------------- mycovirus_virusfree_vs_partitivirus1\n",
      "(9915, 5) (9859, 7)\n",
      "-------------------------------------------------- mycovirus_virusfree_vs_RNAvirus1\n",
      "(9915, 5) (9859, 7)\n",
      "-------------------------------------------------- mycovirus_virusfree_vs_umbralikevirus\n",
      "(9915, 5) (9859, 7)\n"
     ]
    }
   ],
   "source": [
    "# main for deseq comparisons\n",
    "root = \"deseq2\"\n",
    "out = \"deseq_v2\"\n",
    "datas = [i.split('.')[0].strip() for i in os.listdir(root) if i.endswith('csv')]\n",
    "for data_name in datas:\n",
    "    get_desc(root,data_name, out)"
   ]
  },
  {
   "cell_type": "code",
   "execution_count": 8,
   "metadata": {},
   "outputs": [
    {
     "name": "stdout",
     "output_type": "stream",
     "text": [
      "-------------------------------------------------- k2_1_vs_2\n",
      "(9915, 5) (9859, 7)\n",
      "-------------------------------------------------- k3_2_vs_1\n",
      "(9915, 5) (9859, 7)\n",
      "-------------------------------------------------- k3_3_vs_1\n",
      "(9915, 5) (9859, 7)\n",
      "-------------------------------------------------- k3_3_vs_2\n",
      "(9915, 5) (9859, 7)\n",
      "-------------------------------------------------- k4_1_vs_2\n",
      "(9915, 5) (9859, 7)\n",
      "-------------------------------------------------- k4_1_vs_4\n",
      "(9915, 5) (9859, 7)\n",
      "-------------------------------------------------- k4_3_vs_1\n",
      "(9915, 5) (9859, 7)\n",
      "-------------------------------------------------- k4_3_vs_2\n",
      "(9915, 5) (9859, 7)\n",
      "-------------------------------------------------- k4_3_vs_4\n",
      "(9915, 5) (9859, 7)\n"
     ]
    }
   ],
   "source": [
    "# main for k comparisons\n",
    "import os\n",
    "out = 'deseq_v2/k'\n",
    "root = \"clustering/deseq\"\n",
    "try:\n",
    "    os.mkdir(out)\n",
    "except:\n",
    "    pass\n",
    "datas = [i.split('.')[0].strip() for i in os.listdir(root) if i.endswith('csv')]\n",
    "for data_name in datas:\n",
    "    get_desc(root,data_name, out)"
   ]
  },
  {
   "cell_type": "markdown",
   "metadata": {},
   "source": [
    "## GO NAMES"
   ]
  },
  {
   "cell_type": "code",
   "execution_count": 69,
   "metadata": {},
   "outputs": [],
   "source": [
    "counter=0\n",
    "with open('go-basic.obo', 'r') as file:\n",
    "    for line in file:\n",
    "        if line.startswith(\"[Term]\"):\n",
    "            counter+=1\n",
    "\n",
    "import pandas as pd\n",
    "df = pd.DataFrame(columns=['id', 'name', 'namespace'], index=range(counter-1))"
   ]
  },
  {
   "cell_type": "code",
   "execution_count": 70,
   "metadata": {},
   "outputs": [
    {
     "name": "stdout",
     "output_type": "stream",
     "text": [
      "[Typedef]\n",
      "\n",
      "[Typedef]\n",
      "\n",
      "[Typedef]\n",
      "\n",
      "[Typedef]\n",
      "\n",
      "[Typedef]\n",
      "\n",
      "[Typedef]\n",
      "\n"
     ]
    }
   ],
   "source": [
    "with open('go-basic.obo', 'r') as file:\n",
    "    current_term = {}\n",
    "    index = 0\n",
    "    in_term = False\n",
    "    for line in file:\n",
    "        if line.startswith(\"[Term]\"):\n",
    "            in_term = True\n",
    "            if current_term:\n",
    "                df.iloc[index, :] = list(current_term.values())[:3]\n",
    "                current_term = {}\n",
    "                index+=1\n",
    "        elif in_term and line.strip():\n",
    "            try:\n",
    "                key, value = line.strip().split(': ', 1)\n",
    "                current_term[key] = value\n",
    "            except ValueError:\n",
    "                print(line)\n",
    "\n",
    "\n"
   ]
  },
  {
   "cell_type": "code",
   "execution_count": 71,
   "metadata": {},
   "outputs": [
    {
     "data": {
      "text/plain": [
       "(47728, 3)"
      ]
     },
     "execution_count": 71,
     "metadata": {},
     "output_type": "execute_result"
    }
   ],
   "source": [
    "df.shape"
   ]
  },
  {
   "cell_type": "code",
   "execution_count": 72,
   "metadata": {},
   "outputs": [
    {
     "data": {
      "text/plain": [
       "id                             GO:2001316\n",
       "name         kojic acid metabolic process\n",
       "namespace              biological_process\n",
       "Name: 47727, dtype: object"
      ]
     },
     "execution_count": 72,
     "metadata": {},
     "output_type": "execute_result"
    }
   ],
   "source": [
    "df.iloc[-1, :]"
   ]
  },
  {
   "cell_type": "code",
   "execution_count": 75,
   "metadata": {},
   "outputs": [
    {
     "data": {
      "text/plain": [
       "<Axes: ylabel='count'>"
      ]
     },
     "execution_count": 75,
     "metadata": {},
     "output_type": "execute_result"
    },
    {
     "data": {
      "image/png": "[encoded data removed]",
      "text/plain": [
       "<Figure size 640x480 with 1 Axes>"
      ]
     },
     "metadata": {},
     "output_type": "display_data"
    }
   ],
   "source": [
    "df['namespace'].value_counts().plot.pie()"
   ]
  },
  {
   "cell_type": "code",
   "execution_count": 77,
   "metadata": {},
   "outputs": [
    {
     "data": {
      "text/plain": [
       "(47728,)"
      ]
     },
     "execution_count": 77,
     "metadata": {},
     "output_type": "execute_result"
    }
   ],
   "source": [
    "df['id'].unique().shape"
   ]
  },
  {
   "cell_type": "code",
   "execution_count": 81,
   "metadata": {},
   "outputs": [
    {
     "data": {
      "text/plain": [
       "(47716,)"
      ]
     },
     "execution_count": 81,
     "metadata": {},
     "output_type": "execute_result"
    }
   ],
   "source": [
    "df['name'].unique().shape"
   ]
  },
  {
   "cell_type": "code",
   "execution_count": 84,
   "metadata": {},
   "outputs": [],
   "source": [
    "df.to_csv('go_term_names.csv')"
   ]
  },
  {
   "cell_type": "code",
   "execution_count": null,
   "metadata": {},
   "outputs": [],
   "source": []
  }
 ],
 "metadata": {
  "kernelspec": {
   "display_name": "Python 3",
   "language": "python",
   "name": "python3"
  },
  "language_info": {
   "codemirror_mode": {
    "name": "ipython",
    "version": 3
   },
   "file_extension": ".py",
   "mimetype": "text/x-python",
   "name": "python",
   "nbconvert_exporter": "python",
   "pygments_lexer": "ipython3",
   "version": "3.11.5"
  }
 },
 "nbformat": 4,
 "nbformat_minor": 2
}
