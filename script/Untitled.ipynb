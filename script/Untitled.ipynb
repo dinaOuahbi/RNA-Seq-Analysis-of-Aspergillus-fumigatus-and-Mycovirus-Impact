{
 "cells": [
  {
   "cell_type": "code",
   "execution_count": 1,
   "id": "cb27e5b9-a114-4bbe-9785-bbfe6fd94217",
   "metadata": {},
   "outputs": [],
   "source": [
    "import pandas as pd\n",
    "import os\n",
    "from tqdm import tqdm"
   ]
  },
  {
   "cell_type": "code",
   "execution_count": 9,
   "id": "4637fa5f-a788-4d2c-a621-84b9045ca468",
   "metadata": {},
   "outputs": [],
   "source": [
    "root = '/shared/projects/mycovirus/'"
   ]
  },
  {
   "cell_type": "code",
   "execution_count": 10,
   "id": "77deb4b5-aef4-4f49-9d24-d12fab683b8f",
   "metadata": {},
   "outputs": [],
   "source": [
    "gene_name = pd.read_csv(f'{root}Af293_geneName.tsv',on_bad_lines='skip', sep='\\t')"
   ]
  },
  {
   "cell_type": "code",
   "execution_count": 11,
   "id": "71cdb634-8d18-4a74-ab58-3a67017f6f46",
   "metadata": {},
   "outputs": [
    {
     "data": {
      "text/html": [
       "<div>\n",
       "<style scoped>\n",
       "    .dataframe tbody tr th:only-of-type {\n",
       "        vertical-align: middle;\n",
       "    }\n",
       "\n",
       "    .dataframe tbody tr th {\n",
       "        vertical-align: top;\n",
       "    }\n",
       "\n",
       "    .dataframe thead th {\n",
       "        text-align: right;\n",
       "    }\n",
       "</style>\n",
       "<table border=\"1\" class=\"dataframe\">\n",
       "  <thead>\n",
       "    <tr style=\"text-align: right;\">\n",
       "      <th></th>\n",
       "      <th>NCBI GeneID</th>\n",
       "      <th>Symbol</th>\n",
       "      <th>Description</th>\n",
       "    </tr>\n",
       "  </thead>\n",
       "  <tbody>\n",
       "    <tr>\n",
       "      <th>0</th>\n",
       "      <td>3509526</td>\n",
       "      <td>AFUA_4G06890</td>\n",
       "      <td>14-alpha sterol demethylase Cyp51A</td>\n",
       "    </tr>\n",
       "    <tr>\n",
       "      <th>1</th>\n",
       "      <td>3513640</td>\n",
       "      <td>AFUA_2G07680</td>\n",
       "      <td>L-ornithine N5-oxygenase SidA</td>\n",
       "    </tr>\n",
       "  </tbody>\n",
       "</table>\n",
       "</div>"
      ],
      "text/plain": [
       "   NCBI GeneID        Symbol                         Description\n",
       "0      3509526  AFUA_4G06890  14-alpha sterol demethylase Cyp51A\n",
       "1      3513640  AFUA_2G07680       L-ornithine N5-oxygenase SidA"
      ]
     },
     "execution_count": 11,
     "metadata": {},
     "output_type": "execute_result"
    }
   ],
   "source": [
    "gene_name.drop(['Common Name','Taxonomic Name'], axis=1, inplace=True)\n",
    "gene_name.head(2)"
   ]
  },
  {
   "cell_type": "code",
   "execution_count": 21,
   "id": "c64d7046-d2c5-447b-a5c1-be60c6256dcc",
   "metadata": {},
   "outputs": [],
   "source": [
    "def significatives_genes_export(path, file, out):\n",
    "    df = pd.read_csv(path, sep=';', index_col=0)\n",
    "\n",
    "    for col in df.columns:\n",
    "        df[col] = df[col].str.replace(',', '.', regex=False)\n",
    "        df[col] = df[col].astype('float')\n",
    "\n",
    "    subset = df[df['pvalue'] < 0.05][abs(df['log2FoldChange'])>1.5]\n",
    "\n",
    "    subset['Symbol'] = [i.split(':')[1] for i in subset.index]\n",
    "\n",
    "    merge = pd.merge(gene_name, subset, on='Symbol', how='inner')\n",
    "\n",
    "    merge.to_csv(f'{out}{file}', index=False)\n",
    "    print(f'{file} : {merge.shape}')"
   ]
  },
  {
   "cell_type": "code",
   "execution_count": 22,
   "id": "cc04299a-d845-4e72-9532-f2a7de4010dc",
   "metadata": {},
   "outputs": [
    {
     "data": {
      "text/plain": [
       "['k3_3_vs_1.csv', 'k2_1_vs_2.csv', 'k3_2_vs_1.csv', 'k3_3_vs_2.csv']"
      ]
     },
     "execution_count": 22,
     "metadata": {},
     "output_type": "execute_result"
    }
   ],
   "source": [
    "files = [i for i in os.listdir(f'{root}clustering/deseq/') if i.endswith('.csv')]\n",
    "files"
   ]
  },
  {
   "cell_type": "code",
   "execution_count": 23,
   "id": "a7f6068c-ff00-4d65-8a5d-82e7e7c15c23",
   "metadata": {},
   "outputs": [
    {
     "name": "stderr",
     "output_type": "stream",
     "text": [
      "/shared/software/miniconda/envs/python-pytorch-tensorflow-3.7-1.11.0-2.6.0/lib/python3.7/site-packages/ipykernel_launcher.py:8: UserWarning: Boolean Series key will be reindexed to match DataFrame index.\n",
      "  \n"
     ]
    },
    {
     "name": "stdout",
     "output_type": "stream",
     "text": [
      "k3_3_vs_1.csv : (292, 9)\n",
      "k2_1_vs_2.csv : (194, 9)\n",
      "k3_2_vs_1.csv : (189, 9)\n",
      "k3_3_vs_2.csv : (48, 9)\n"
     ]
    }
   ],
   "source": [
    "out = f'{root}genes_significatives/clustering/'\n",
    "for file in files:\n",
    "    path = f'{root}clustering/deseq/{file}'\n",
    "    significatives_genes_export(path, file, out)"
   ]
  },
  {
   "cell_type": "code",
   "execution_count": 85,
   "id": "00edcd30-d271-4c9b-a57b-e807cb7d9bb4",
   "metadata": {},
   "outputs": [
    {
     "data": {
      "text/plain": [
       "hypothetical protein                             87\n",
       "MFS multidrug transporter, putative               6\n",
       "C6 transcription factor, putative                 3\n",
       "aminotransferase, putative                        2\n",
       "ThiJ/PfpI family protein                          2\n",
       "                                                 ..\n",
       "beta-galactosidase, putative                      1\n",
       "DUF1275 domain protein                            1\n",
       "4-hydroxyphenylpyruvate dioxygenase, putative     1\n",
       "serine protein kinase, putative                   1\n",
       "tRNA-Phe                                          1\n",
       "Name: Description, Length: 156, dtype: int64"
      ]
     },
     "execution_count": 85,
     "metadata": {},
     "output_type": "execute_result"
    }
   ],
   "source": [
    "merge['Description'].value_counts()"
   ]
  },
  {
   "cell_type": "markdown",
   "id": "c8b95033-7b8c-47d3-85e7-d4e397fd597a",
   "metadata": {},
   "source": [
    "### Merge metadata with k mean clusters"
   ]
  },
  {
   "cell_type": "code",
   "execution_count": 24,
   "id": "c530ac32-b9c5-48aa-ba07-e57c2eb487ac",
   "metadata": {},
   "outputs": [],
   "source": [
    "col = pd.read_csv(f'{root}results/colData.csv')\n",
    "kmean = pd.read_csv(f'{root}clustering/kmean_clustering.csv', sep=';').rename(columns = {'Unnamed: 0':'sampleID'})"
   ]
  },
  {
   "cell_type": "code",
   "execution_count": 26,
   "id": "682f05a6-5494-405d-9094-b2316b3367e3",
   "metadata": {},
   "outputs": [],
   "source": [
    "merge = pd.merge(col, kmean, on='sampleID', how='inner')"
   ]
  },
  {
   "cell_type": "code",
   "execution_count": 29,
   "id": "3a7d0814-7b18-4a41-8c50-99add6307a5a",
   "metadata": {},
   "outputs": [],
   "source": [
    "merge.to_csv(\"/shared/projects/mycovirus/rnaseq_metadata_kmean.csv\")"
   ]
  },
  {
   "cell_type": "code",
   "execution_count": null,
   "id": "b7b4f3ea-8318-4256-bfd0-8fe1c3b502f3",
   "metadata": {},
   "outputs": [],
   "source": []
  }
 ],
 "metadata": {
  "kernelspec": {
   "display_name": "Python 3.7",
   "language": "python",
   "name": "python3"
  },
  "language_info": {
   "codemirror_mode": {
    "name": "ipython",
    "version": 3
   },
   "file_extension": ".py",
   "mimetype": "text/x-python",
   "name": "python",
   "nbconvert_exporter": "python",
   "pygments_lexer": "ipython3",
   "version": "3.7.12"
  }
 },
 "nbformat": 4,
 "nbformat_minor": 5
}
