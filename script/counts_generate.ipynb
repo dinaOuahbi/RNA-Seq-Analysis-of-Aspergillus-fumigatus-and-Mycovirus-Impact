{
 "cells": [
  {
   "cell_type": "code",
   "execution_count": 1,
   "id": "a8a2f76a-edf2-415e-adae-e5331e05afb0",
   "metadata": {},
   "outputs": [],
   "source": [
    "import os\n",
    "import pandas as pd\n",
    "from tqdm import tqdm"
   ]
  },
  {
   "cell_type": "code",
   "execution_count": 2,
   "id": "96c0bd01-aeb7-4ba3-ba83-18c6330661ef",
   "metadata": {},
   "outputs": [
    {
     "data": {
      "text/plain": [
       "'/shared/ifbstor1/projects/mycovirus/script'"
      ]
     },
     "execution_count": 2,
     "metadata": {},
     "output_type": "execute_result"
    }
   ],
   "source": [
    "os.getcwd()"
   ]
  },
  {
   "cell_type": "code",
   "execution_count": 3,
   "id": "28827809-7d8f-4646-a378-d3b9da9bb4d4",
   "metadata": {},
   "outputs": [],
   "source": [
    "#for file in `find . -type f | grep -v \"summary\"`; do base=$(basename \"$file\");filename=\"${base%%.bam.txt}\";cat $filename.bam.txt | cut -f1,7 > ../counts_2/$filename.csv; done;"
   ]
  },
  {
   "cell_type": "code",
   "execution_count": 4,
   "id": "f96a3f1a-8918-4aaa-a3f0-6e831f96842a",
   "metadata": {},
   "outputs": [],
   "source": [
    "def data_process(souche):\n",
    "    df = pd.read_csv(f'../results/counts_2/{souche}.csv', sep='\\t')\n",
    "    df.rename(columns={df.columns[0]:'count'}, inplace=True)\n",
    "    df.drop(df.iloc[0].name, inplace=True)\n",
    "    df.to_csv(f'../results/counts_3/{souche}.csv')"
   ]
  },
  {
   "cell_type": "code",
   "execution_count": 5,
   "id": "8fed1eab-e5b6-4a56-9da3-e86855a7fc3b",
   "metadata": {},
   "outputs": [],
   "source": [
    "myfiles=[i.split('.')[0] for i in os.listdir('../results/counts_2')]"
   ]
  },
  {
   "cell_type": "code",
   "execution_count": 6,
   "id": "99fac7c1-38c5-4f22-9452-5aa28b66fd78",
   "metadata": {},
   "outputs": [
    {
     "data": {
      "text/plain": [
       "91"
      ]
     },
     "execution_count": 6,
     "metadata": {},
     "output_type": "execute_result"
    }
   ],
   "source": [
    "len(myfiles)"
   ]
  },
  {
   "cell_type": "code",
   "execution_count": 7,
   "id": "8f496c77-1c46-4368-8639-a564d4c0903a",
   "metadata": {},
   "outputs": [
    {
     "name": "stderr",
     "output_type": "stream",
     "text": [
      "100%|██████████| 91/91 [00:05<00:00, 17.29it/s]\n"
     ]
    }
   ],
   "source": [
    "for souche in tqdm(myfiles):\n",
    "    data_process(souche)"
   ]
  },
  {
   "cell_type": "code",
   "execution_count": 8,
   "id": "5be2add2-a913-4b31-bc7c-09de8a403a1f",
   "metadata": {},
   "outputs": [
    {
     "data": {
      "text/plain": [
       "91"
      ]
     },
     "execution_count": 8,
     "metadata": {},
     "output_type": "execute_result"
    }
   ],
   "source": [
    "l=[i for i in os.listdir('../results/counts_3') if i.endswith('.csv')]\n",
    "len(l)"
   ]
  },
  {
   "cell_type": "code",
   "execution_count": 9,
   "id": "d8556cdf-4eab-4b83-9597-67b4ff14f4b2",
   "metadata": {},
   "outputs": [],
   "source": [
    "df1 = pd.read_csv('../results/counts_3/77_33_1_S10_L002_R1_001+p.csv')\n",
    "df1.rename(columns={'Unnamed: 0':'gene_id'}, inplace=True)\n",
    "matrix = pd.DataFrame(df1['gene_id'])"
   ]
  },
  {
   "cell_type": "code",
   "execution_count": 10,
   "id": "a1608374-8f1c-4f72-bd7d-3df389cb5e48",
   "metadata": {},
   "outputs": [],
   "source": [
    "names = [i.split('.')[0] for i in l]"
   ]
  },
  {
   "cell_type": "code",
   "execution_count": 11,
   "id": "fa910454-847e-4ba2-ae94-8d7d0e707906",
   "metadata": {},
   "outputs": [
    {
     "name": "stderr",
     "output_type": "stream",
     "text": [
      "  1%|          | 1/91 [00:00<00:09,  9.46it/s]/shared/software/miniconda/envs/python-pytorch-tensorflow-3.7-1.11.0-2.6.0/lib/python3.7/site-packages/ipykernel_launcher.py:4: FutureWarning: Passing 'suffixes' which cause duplicate columns {'count_x'} in the result is deprecated and will raise a MergeError in a future version.\n",
      "  after removing the cwd from sys.path.\n",
      "100%|██████████| 91/91 [00:02<00:00, 36.35it/s]\n"
     ]
    }
   ],
   "source": [
    "for filename in tqdm(l):\n",
    "    df = pd.read_csv(f'../results/counts_3/{filename}')\n",
    "    df.rename(columns={'Unnamed: 0':'gene_id'}, inplace=True)\n",
    "    matrix = pd.merge(matrix, df, on='gene_id')"
   ]
  },
  {
   "cell_type": "code",
   "execution_count": 12,
   "id": "ba723de9-f6e9-4b87-8e2d-37951762de5b",
   "metadata": {},
   "outputs": [],
   "source": [
    "matrix.set_index('gene_id', inplace=True)"
   ]
  },
  {
   "cell_type": "code",
   "execution_count": 13,
   "id": "54716598-2b92-47b7-b5eb-c67d6addd813",
   "metadata": {},
   "outputs": [],
   "source": [
    "matrix.columns = names"
   ]
  },
  {
   "cell_type": "code",
   "execution_count": 14,
   "id": "30bdaeb8-7f2e-4260-b74a-6cda47eb6c53",
   "metadata": {},
   "outputs": [
    {
     "data": {
      "text/html": [
       "<div>\n",
       "<style scoped>\n",
       "    .dataframe tbody tr th:only-of-type {\n",
       "        vertical-align: middle;\n",
       "    }\n",
       "\n",
       "    .dataframe tbody tr th {\n",
       "        vertical-align: top;\n",
       "    }\n",
       "\n",
       "    .dataframe thead th {\n",
       "        text-align: right;\n",
       "    }\n",
       "</style>\n",
       "<table border=\"1\" class=\"dataframe\">\n",
       "  <thead>\n",
       "    <tr style=\"text-align: right;\">\n",
       "      <th></th>\n",
       "      <th>77_33_1_S10_L002_R1_001+p</th>\n",
       "      <th>65_13_2_S12_L002_R1_001+p</th>\n",
       "      <th>12_49_1_S35_R1_001+p</th>\n",
       "      <th>12_37_2_S22_L002_R1_001+p</th>\n",
       "      <th>13_27_1_S36_R1_001+p</th>\n",
       "      <th>08_21_1_S8_L002_R1_001+p</th>\n",
       "      <th>14_17_1_S32_R1_001+p</th>\n",
       "      <th>77_73_1_S35_L002_R1_001+p</th>\n",
       "      <th>13_25_1_S32_L002_R1_001+p</th>\n",
       "      <th>61_61_2_S24_L002_R1_001+p</th>\n",
       "      <th>...</th>\n",
       "      <th>56_06_2_S21_L002_R1_001+p</th>\n",
       "      <th>79_06_1_S42_L002_R1_001+p</th>\n",
       "      <th>67_57_1_S16_L002_R1_001+p</th>\n",
       "      <th>62_41_1_S16_R1_001+p</th>\n",
       "      <th>78_78_2_S28_R1_001+p</th>\n",
       "      <th>69_06_1_S23_R1_001+p</th>\n",
       "      <th>71_08_1_S29_L002_R1_001+p</th>\n",
       "      <th>13_01_1_S37_L002_R1_001+p</th>\n",
       "      <th>13_34_2_S38_L002_R1_001+p</th>\n",
       "      <th>12_63_2_S30_R1_001+p</th>\n",
       "    </tr>\n",
       "    <tr>\n",
       "      <th>gene_id</th>\n",
       "      <th></th>\n",
       "      <th></th>\n",
       "      <th></th>\n",
       "      <th></th>\n",
       "      <th></th>\n",
       "      <th></th>\n",
       "      <th></th>\n",
       "      <th></th>\n",
       "      <th></th>\n",
       "      <th></th>\n",
       "      <th></th>\n",
       "      <th></th>\n",
       "      <th></th>\n",
       "      <th></th>\n",
       "      <th></th>\n",
       "      <th></th>\n",
       "      <th></th>\n",
       "      <th></th>\n",
       "      <th></th>\n",
       "      <th></th>\n",
       "      <th></th>\n",
       "    </tr>\n",
       "  </thead>\n",
       "  <tbody>\n",
       "    <tr>\n",
       "      <th>gene:AFUA_1G00100</th>\n",
       "      <td>0</td>\n",
       "      <td>0</td>\n",
       "      <td>2</td>\n",
       "      <td>0</td>\n",
       "      <td>0</td>\n",
       "      <td>0</td>\n",
       "      <td>0</td>\n",
       "      <td>0</td>\n",
       "      <td>0</td>\n",
       "      <td>0</td>\n",
       "      <td>...</td>\n",
       "      <td>0</td>\n",
       "      <td>0</td>\n",
       "      <td>0</td>\n",
       "      <td>2</td>\n",
       "      <td>1</td>\n",
       "      <td>4</td>\n",
       "      <td>0</td>\n",
       "      <td>0</td>\n",
       "      <td>0</td>\n",
       "      <td>0</td>\n",
       "    </tr>\n",
       "    <tr>\n",
       "      <th>gene:AFUA_1G00110</th>\n",
       "      <td>7</td>\n",
       "      <td>1</td>\n",
       "      <td>28</td>\n",
       "      <td>0</td>\n",
       "      <td>7</td>\n",
       "      <td>0</td>\n",
       "      <td>18</td>\n",
       "      <td>2</td>\n",
       "      <td>0</td>\n",
       "      <td>3</td>\n",
       "      <td>...</td>\n",
       "      <td>0</td>\n",
       "      <td>0</td>\n",
       "      <td>2</td>\n",
       "      <td>11</td>\n",
       "      <td>8</td>\n",
       "      <td>18</td>\n",
       "      <td>0</td>\n",
       "      <td>2</td>\n",
       "      <td>0</td>\n",
       "      <td>19</td>\n",
       "    </tr>\n",
       "    <tr>\n",
       "      <th>gene:AFUA_1G00120</th>\n",
       "      <td>0</td>\n",
       "      <td>0</td>\n",
       "      <td>0</td>\n",
       "      <td>0</td>\n",
       "      <td>0</td>\n",
       "      <td>0</td>\n",
       "      <td>0</td>\n",
       "      <td>0</td>\n",
       "      <td>0</td>\n",
       "      <td>0</td>\n",
       "      <td>...</td>\n",
       "      <td>0</td>\n",
       "      <td>0</td>\n",
       "      <td>0</td>\n",
       "      <td>0</td>\n",
       "      <td>0</td>\n",
       "      <td>0</td>\n",
       "      <td>0</td>\n",
       "      <td>0</td>\n",
       "      <td>0</td>\n",
       "      <td>0</td>\n",
       "    </tr>\n",
       "    <tr>\n",
       "      <th>gene:AFUA_1G00130</th>\n",
       "      <td>0</td>\n",
       "      <td>0</td>\n",
       "      <td>0</td>\n",
       "      <td>0</td>\n",
       "      <td>0</td>\n",
       "      <td>0</td>\n",
       "      <td>0</td>\n",
       "      <td>0</td>\n",
       "      <td>0</td>\n",
       "      <td>0</td>\n",
       "      <td>...</td>\n",
       "      <td>0</td>\n",
       "      <td>0</td>\n",
       "      <td>0</td>\n",
       "      <td>0</td>\n",
       "      <td>0</td>\n",
       "      <td>0</td>\n",
       "      <td>0</td>\n",
       "      <td>0</td>\n",
       "      <td>0</td>\n",
       "      <td>0</td>\n",
       "    </tr>\n",
       "    <tr>\n",
       "      <th>gene:AFUA_1G00150</th>\n",
       "      <td>0</td>\n",
       "      <td>0</td>\n",
       "      <td>0</td>\n",
       "      <td>0</td>\n",
       "      <td>0</td>\n",
       "      <td>0</td>\n",
       "      <td>0</td>\n",
       "      <td>0</td>\n",
       "      <td>0</td>\n",
       "      <td>0</td>\n",
       "      <td>...</td>\n",
       "      <td>0</td>\n",
       "      <td>0</td>\n",
       "      <td>0</td>\n",
       "      <td>0</td>\n",
       "      <td>0</td>\n",
       "      <td>0</td>\n",
       "      <td>0</td>\n",
       "      <td>0</td>\n",
       "      <td>0</td>\n",
       "      <td>0</td>\n",
       "    </tr>\n",
       "  </tbody>\n",
       "</table>\n",
       "<p>5 rows × 91 columns</p>\n",
       "</div>"
      ],
      "text/plain": [
       "                   77_33_1_S10_L002_R1_001+p  65_13_2_S12_L002_R1_001+p  \\\n",
       "gene_id                                                                   \n",
       "gene:AFUA_1G00100                          0                          0   \n",
       "gene:AFUA_1G00110                          7                          1   \n",
       "gene:AFUA_1G00120                          0                          0   \n",
       "gene:AFUA_1G00130                          0                          0   \n",
       "gene:AFUA_1G00150                          0                          0   \n",
       "\n",
       "                   12_49_1_S35_R1_001+p  12_37_2_S22_L002_R1_001+p  \\\n",
       "gene_id                                                              \n",
       "gene:AFUA_1G00100                     2                          0   \n",
       "gene:AFUA_1G00110                    28                          0   \n",
       "gene:AFUA_1G00120                     0                          0   \n",
       "gene:AFUA_1G00130                     0                          0   \n",
       "gene:AFUA_1G00150                     0                          0   \n",
       "\n",
       "                   13_27_1_S36_R1_001+p  08_21_1_S8_L002_R1_001+p  \\\n",
       "gene_id                                                             \n",
       "gene:AFUA_1G00100                     0                         0   \n",
       "gene:AFUA_1G00110                     7                         0   \n",
       "gene:AFUA_1G00120                     0                         0   \n",
       "gene:AFUA_1G00130                     0                         0   \n",
       "gene:AFUA_1G00150                     0                         0   \n",
       "\n",
       "                   14_17_1_S32_R1_001+p  77_73_1_S35_L002_R1_001+p  \\\n",
       "gene_id                                                              \n",
       "gene:AFUA_1G00100                     0                          0   \n",
       "gene:AFUA_1G00110                    18                          2   \n",
       "gene:AFUA_1G00120                     0                          0   \n",
       "gene:AFUA_1G00130                     0                          0   \n",
       "gene:AFUA_1G00150                     0                          0   \n",
       "\n",
       "                   13_25_1_S32_L002_R1_001+p  61_61_2_S24_L002_R1_001+p  ...  \\\n",
       "gene_id                                                                  ...   \n",
       "gene:AFUA_1G00100                          0                          0  ...   \n",
       "gene:AFUA_1G00110                          0                          3  ...   \n",
       "gene:AFUA_1G00120                          0                          0  ...   \n",
       "gene:AFUA_1G00130                          0                          0  ...   \n",
       "gene:AFUA_1G00150                          0                          0  ...   \n",
       "\n",
       "                   56_06_2_S21_L002_R1_001+p  79_06_1_S42_L002_R1_001+p  \\\n",
       "gene_id                                                                   \n",
       "gene:AFUA_1G00100                          0                          0   \n",
       "gene:AFUA_1G00110                          0                          0   \n",
       "gene:AFUA_1G00120                          0                          0   \n",
       "gene:AFUA_1G00130                          0                          0   \n",
       "gene:AFUA_1G00150                          0                          0   \n",
       "\n",
       "                   67_57_1_S16_L002_R1_001+p  62_41_1_S16_R1_001+p  \\\n",
       "gene_id                                                              \n",
       "gene:AFUA_1G00100                          0                     2   \n",
       "gene:AFUA_1G00110                          2                    11   \n",
       "gene:AFUA_1G00120                          0                     0   \n",
       "gene:AFUA_1G00130                          0                     0   \n",
       "gene:AFUA_1G00150                          0                     0   \n",
       "\n",
       "                   78_78_2_S28_R1_001+p  69_06_1_S23_R1_001+p  \\\n",
       "gene_id                                                         \n",
       "gene:AFUA_1G00100                     1                     4   \n",
       "gene:AFUA_1G00110                     8                    18   \n",
       "gene:AFUA_1G00120                     0                     0   \n",
       "gene:AFUA_1G00130                     0                     0   \n",
       "gene:AFUA_1G00150                     0                     0   \n",
       "\n",
       "                   71_08_1_S29_L002_R1_001+p  13_01_1_S37_L002_R1_001+p  \\\n",
       "gene_id                                                                   \n",
       "gene:AFUA_1G00100                          0                          0   \n",
       "gene:AFUA_1G00110                          0                          2   \n",
       "gene:AFUA_1G00120                          0                          0   \n",
       "gene:AFUA_1G00130                          0                          0   \n",
       "gene:AFUA_1G00150                          0                          0   \n",
       "\n",
       "                   13_34_2_S38_L002_R1_001+p  12_63_2_S30_R1_001+p  \n",
       "gene_id                                                             \n",
       "gene:AFUA_1G00100                          0                     0  \n",
       "gene:AFUA_1G00110                          0                    19  \n",
       "gene:AFUA_1G00120                          0                     0  \n",
       "gene:AFUA_1G00130                          0                     0  \n",
       "gene:AFUA_1G00150                          0                     0  \n",
       "\n",
       "[5 rows x 91 columns]"
      ]
     },
     "execution_count": 14,
     "metadata": {},
     "output_type": "execute_result"
    }
   ],
   "source": [
    "matrix.head()"
   ]
  },
  {
   "cell_type": "code",
   "execution_count": 15,
   "id": "6ec40fe5-16e5-4d8a-94ea-52fa30134790",
   "metadata": {},
   "outputs": [],
   "source": [
    "#matrix.to_csv('../results/counts_matrix.csv')"
   ]
  },
  {
   "cell_type": "code",
   "execution_count": 16,
   "id": "96696cc5-cf08-4d7e-90cf-6967893fae10",
   "metadata": {},
   "outputs": [],
   "source": [
    "clin = pd.read_csv('../rnaseq_metadata.csv', sep=';')"
   ]
  },
  {
   "cell_type": "code",
   "execution_count": 17,
   "id": "14b2c50c-aa4c-40a2-bbf2-f3e1b8d61a59",
   "metadata": {},
   "outputs": [],
   "source": [
    "clin['sampleID']=[f'souche_{i}' for i in clin['sampleID']]"
   ]
  },
  {
   "cell_type": "code",
   "execution_count": 18,
   "id": "03215855-c4fe-49b3-92ad-cd6af6c69fef",
   "metadata": {},
   "outputs": [
    {
     "data": {
      "text/html": [
       "<div>\n",
       "<style scoped>\n",
       "    .dataframe tbody tr th:only-of-type {\n",
       "        vertical-align: middle;\n",
       "    }\n",
       "\n",
       "    .dataframe tbody tr th {\n",
       "        vertical-align: top;\n",
       "    }\n",
       "\n",
       "    .dataframe thead th {\n",
       "        text-align: right;\n",
       "    }\n",
       "</style>\n",
       "<table border=\"1\" class=\"dataframe\">\n",
       "  <thead>\n",
       "    <tr style=\"text-align: right;\">\n",
       "      <th></th>\n",
       "      <th>sampleID</th>\n",
       "      <th>group</th>\n",
       "      <th>condition</th>\n",
       "      <th>mycovirus</th>\n",
       "      <th>azoleR</th>\n",
       "    </tr>\n",
       "  </thead>\n",
       "  <tbody>\n",
       "    <tr>\n",
       "      <th>0</th>\n",
       "      <td>souche_12_37</td>\n",
       "      <td>env</td>\n",
       "      <td>virusfree</td>\n",
       "      <td>NaN</td>\n",
       "      <td>yes</td>\n",
       "    </tr>\n",
       "    <tr>\n",
       "      <th>1</th>\n",
       "      <td>souche_14_54</td>\n",
       "      <td>env</td>\n",
       "      <td>virusfree</td>\n",
       "      <td>NaN</td>\n",
       "      <td>yes</td>\n",
       "    </tr>\n",
       "    <tr>\n",
       "      <th>2</th>\n",
       "      <td>souche_69_17</td>\n",
       "      <td>api</td>\n",
       "      <td>virusfree</td>\n",
       "      <td>NaN</td>\n",
       "      <td>yes</td>\n",
       "    </tr>\n",
       "    <tr>\n",
       "      <th>3</th>\n",
       "      <td>souche_79_06</td>\n",
       "      <td>col</td>\n",
       "      <td>virusfree</td>\n",
       "      <td>NaN</td>\n",
       "      <td>yes</td>\n",
       "    </tr>\n",
       "    <tr>\n",
       "      <th>4</th>\n",
       "      <td>souche_07_24</td>\n",
       "      <td>env</td>\n",
       "      <td>infected</td>\n",
       "      <td>RNAvirus1</td>\n",
       "      <td>no</td>\n",
       "    </tr>\n",
       "  </tbody>\n",
       "</table>\n",
       "</div>"
      ],
      "text/plain": [
       "       sampleID group  condition  mycovirus azoleR\n",
       "0  souche_12_37   env  virusfree        NaN    yes\n",
       "1  souche_14_54   env  virusfree        NaN    yes\n",
       "2  souche_69_17   api  virusfree        NaN    yes\n",
       "3  souche_79_06   col  virusfree        NaN    yes\n",
       "4  souche_07_24   env   infected  RNAvirus1     no"
      ]
     },
     "execution_count": 18,
     "metadata": {},
     "output_type": "execute_result"
    }
   ],
   "source": [
    "clin.head()"
   ]
  },
  {
   "cell_type": "code",
   "execution_count": 19,
   "id": "c9c34cf6-8da4-41de-91d4-008f686f0eae",
   "metadata": {},
   "outputs": [],
   "source": [
    "matrix.columns=['_'.join(i.split('_')[:2]).strip() for i in matrix.columns]\n",
    "matrix.rename(columns={'af293_1':'af293'}, inplace=True)"
   ]
  },
  {
   "cell_type": "code",
   "execution_count": 20,
   "id": "f6c085a2-f998-4a02-b6b7-89c4fe1df609",
   "metadata": {},
   "outputs": [],
   "source": [
    "matrix = matrix.T.reset_index().rename(columns={'index':'sampleID'})"
   ]
  },
  {
   "cell_type": "code",
   "execution_count": 21,
   "id": "b2edbeec-cbfe-44fa-b190-aa8b17de409a",
   "metadata": {},
   "outputs": [],
   "source": [
    "matrix.index.name = None"
   ]
  },
  {
   "cell_type": "code",
   "execution_count": 22,
   "id": "cc965f7f-b18c-4b33-8a5e-9362f5eb1304",
   "metadata": {},
   "outputs": [],
   "source": [
    "matrix['sampleID']=[f'souche_{i}' for i in matrix['sampleID']]"
   ]
  },
  {
   "cell_type": "code",
   "execution_count": 23,
   "id": "fe7fb015-39f4-45fd-8edd-20fc50fe5128",
   "metadata": {},
   "outputs": [
    {
     "data": {
      "text/html": [
       "<div>\n",
       "<style scoped>\n",
       "    .dataframe tbody tr th:only-of-type {\n",
       "        vertical-align: middle;\n",
       "    }\n",
       "\n",
       "    .dataframe tbody tr th {\n",
       "        vertical-align: top;\n",
       "    }\n",
       "\n",
       "    .dataframe thead th {\n",
       "        text-align: right;\n",
       "    }\n",
       "</style>\n",
       "<table border=\"1\" class=\"dataframe\">\n",
       "  <thead>\n",
       "    <tr style=\"text-align: right;\">\n",
       "      <th>gene_id</th>\n",
       "      <th>sampleID</th>\n",
       "      <th>gene:AFUA_1G00100</th>\n",
       "      <th>gene:AFUA_1G00110</th>\n",
       "      <th>gene:AFUA_1G00120</th>\n",
       "      <th>gene:AFUA_1G00130</th>\n",
       "      <th>gene:AFUA_1G00150</th>\n",
       "      <th>gene:AFUA_1G00160</th>\n",
       "      <th>gene:AFUA_1G00170</th>\n",
       "      <th>gene:AFUA_1G00180</th>\n",
       "      <th>gene:AFUA_1G00200</th>\n",
       "      <th>...</th>\n",
       "      <th>gene:AFUA_8G07310</th>\n",
       "      <th>gene:AFUA_8G07320</th>\n",
       "      <th>gene:AFUA_8G07330</th>\n",
       "      <th>gene:AFUA_8G07340</th>\n",
       "      <th>gene:AFUA_8G07350</th>\n",
       "      <th>gene:AFUA_8G07360</th>\n",
       "      <th>gene:AFUA_8G07370</th>\n",
       "      <th>gene:AFUA_8G07380</th>\n",
       "      <th>gene:AFUA_8G07390</th>\n",
       "      <th>gene:AFUA_8G07400</th>\n",
       "    </tr>\n",
       "  </thead>\n",
       "  <tbody>\n",
       "    <tr>\n",
       "      <th>0</th>\n",
       "      <td>souche_77_33</td>\n",
       "      <td>0</td>\n",
       "      <td>7</td>\n",
       "      <td>0</td>\n",
       "      <td>0</td>\n",
       "      <td>0</td>\n",
       "      <td>0</td>\n",
       "      <td>0</td>\n",
       "      <td>0</td>\n",
       "      <td>0</td>\n",
       "      <td>...</td>\n",
       "      <td>0</td>\n",
       "      <td>7</td>\n",
       "      <td>3</td>\n",
       "      <td>35</td>\n",
       "      <td>0</td>\n",
       "      <td>4</td>\n",
       "      <td>0</td>\n",
       "      <td>8</td>\n",
       "      <td>2</td>\n",
       "      <td>0</td>\n",
       "    </tr>\n",
       "    <tr>\n",
       "      <th>1</th>\n",
       "      <td>souche_65_13</td>\n",
       "      <td>0</td>\n",
       "      <td>1</td>\n",
       "      <td>0</td>\n",
       "      <td>0</td>\n",
       "      <td>0</td>\n",
       "      <td>1</td>\n",
       "      <td>0</td>\n",
       "      <td>0</td>\n",
       "      <td>27</td>\n",
       "      <td>...</td>\n",
       "      <td>0</td>\n",
       "      <td>12</td>\n",
       "      <td>4</td>\n",
       "      <td>28</td>\n",
       "      <td>0</td>\n",
       "      <td>3</td>\n",
       "      <td>3</td>\n",
       "      <td>4</td>\n",
       "      <td>6</td>\n",
       "      <td>0</td>\n",
       "    </tr>\n",
       "    <tr>\n",
       "      <th>2</th>\n",
       "      <td>souche_12_49</td>\n",
       "      <td>2</td>\n",
       "      <td>28</td>\n",
       "      <td>0</td>\n",
       "      <td>0</td>\n",
       "      <td>0</td>\n",
       "      <td>18</td>\n",
       "      <td>88</td>\n",
       "      <td>6</td>\n",
       "      <td>312</td>\n",
       "      <td>...</td>\n",
       "      <td>12</td>\n",
       "      <td>120</td>\n",
       "      <td>132</td>\n",
       "      <td>304</td>\n",
       "      <td>4</td>\n",
       "      <td>84</td>\n",
       "      <td>2</td>\n",
       "      <td>67</td>\n",
       "      <td>0</td>\n",
       "      <td>0</td>\n",
       "    </tr>\n",
       "    <tr>\n",
       "      <th>3</th>\n",
       "      <td>souche_12_37</td>\n",
       "      <td>0</td>\n",
       "      <td>0</td>\n",
       "      <td>0</td>\n",
       "      <td>0</td>\n",
       "      <td>0</td>\n",
       "      <td>0</td>\n",
       "      <td>0</td>\n",
       "      <td>0</td>\n",
       "      <td>0</td>\n",
       "      <td>...</td>\n",
       "      <td>0</td>\n",
       "      <td>0</td>\n",
       "      <td>0</td>\n",
       "      <td>2</td>\n",
       "      <td>0</td>\n",
       "      <td>0</td>\n",
       "      <td>0</td>\n",
       "      <td>0</td>\n",
       "      <td>0</td>\n",
       "      <td>0</td>\n",
       "    </tr>\n",
       "    <tr>\n",
       "      <th>4</th>\n",
       "      <td>souche_13_27</td>\n",
       "      <td>0</td>\n",
       "      <td>7</td>\n",
       "      <td>0</td>\n",
       "      <td>0</td>\n",
       "      <td>0</td>\n",
       "      <td>0</td>\n",
       "      <td>0</td>\n",
       "      <td>0</td>\n",
       "      <td>0</td>\n",
       "      <td>...</td>\n",
       "      <td>11</td>\n",
       "      <td>312</td>\n",
       "      <td>335</td>\n",
       "      <td>889</td>\n",
       "      <td>15</td>\n",
       "      <td>148</td>\n",
       "      <td>2</td>\n",
       "      <td>73</td>\n",
       "      <td>2</td>\n",
       "      <td>0</td>\n",
       "    </tr>\n",
       "  </tbody>\n",
       "</table>\n",
       "<p>5 rows × 9860 columns</p>\n",
       "</div>"
      ],
      "text/plain": [
       "gene_id      sampleID  gene:AFUA_1G00100  gene:AFUA_1G00110  \\\n",
       "0        souche_77_33                  0                  7   \n",
       "1        souche_65_13                  0                  1   \n",
       "2        souche_12_49                  2                 28   \n",
       "3        souche_12_37                  0                  0   \n",
       "4        souche_13_27                  0                  7   \n",
       "\n",
       "gene_id  gene:AFUA_1G00120  gene:AFUA_1G00130  gene:AFUA_1G00150  \\\n",
       "0                        0                  0                  0   \n",
       "1                        0                  0                  0   \n",
       "2                        0                  0                  0   \n",
       "3                        0                  0                  0   \n",
       "4                        0                  0                  0   \n",
       "\n",
       "gene_id  gene:AFUA_1G00160  gene:AFUA_1G00170  gene:AFUA_1G00180  \\\n",
       "0                        0                  0                  0   \n",
       "1                        1                  0                  0   \n",
       "2                       18                 88                  6   \n",
       "3                        0                  0                  0   \n",
       "4                        0                  0                  0   \n",
       "\n",
       "gene_id  gene:AFUA_1G00200  ...  gene:AFUA_8G07310  gene:AFUA_8G07320  \\\n",
       "0                        0  ...                  0                  7   \n",
       "1                       27  ...                  0                 12   \n",
       "2                      312  ...                 12                120   \n",
       "3                        0  ...                  0                  0   \n",
       "4                        0  ...                 11                312   \n",
       "\n",
       "gene_id  gene:AFUA_8G07330  gene:AFUA_8G07340  gene:AFUA_8G07350  \\\n",
       "0                        3                 35                  0   \n",
       "1                        4                 28                  0   \n",
       "2                      132                304                  4   \n",
       "3                        0                  2                  0   \n",
       "4                      335                889                 15   \n",
       "\n",
       "gene_id  gene:AFUA_8G07360  gene:AFUA_8G07370  gene:AFUA_8G07380  \\\n",
       "0                        4                  0                  8   \n",
       "1                        3                  3                  4   \n",
       "2                       84                  2                 67   \n",
       "3                        0                  0                  0   \n",
       "4                      148                  2                 73   \n",
       "\n",
       "gene_id  gene:AFUA_8G07390  gene:AFUA_8G07400  \n",
       "0                        2                  0  \n",
       "1                        6                  0  \n",
       "2                        0                  0  \n",
       "3                        0                  0  \n",
       "4                        2                  0  \n",
       "\n",
       "[5 rows x 9860 columns]"
      ]
     },
     "execution_count": 23,
     "metadata": {},
     "output_type": "execute_result"
    }
   ],
   "source": [
    "matrix.head()"
   ]
  },
  {
   "cell_type": "code",
   "execution_count": 24,
   "id": "609ef8e9-6b3f-4b56-a968-57a89dcbaea4",
   "metadata": {},
   "outputs": [],
   "source": [
    "merge=pd.merge(clin, matrix, on='sampleID')"
   ]
  },
  {
   "cell_type": "code",
   "execution_count": 25,
   "id": "477afbc3-569c-4fe6-a145-a8ab7e23a86d",
   "metadata": {},
   "outputs": [],
   "source": [
    "merge.set_index('sampleID', inplace=True)"
   ]
  },
  {
   "cell_type": "code",
   "execution_count": 26,
   "id": "94bc07ad-b31d-4623-95e0-1b767831597d",
   "metadata": {},
   "outputs": [],
   "source": [
    "colData = merge.iloc[:, :4]\n",
    "counts = merge.iloc[:, 4:]"
   ]
  },
  {
   "cell_type": "code",
   "execution_count": 27,
   "id": "bf80d98d-9e77-4554-9821-c34eb0e2a812",
   "metadata": {},
   "outputs": [],
   "source": [
    "counts=counts.T"
   ]
  },
  {
   "cell_type": "code",
   "execution_count": 28,
   "id": "6ea699b3-e665-45ed-bf22-5478972d7306",
   "metadata": {},
   "outputs": [
    {
     "name": "stdout",
     "output_type": "stream",
     "text": [
      "(91, 4) (9859, 91)\n"
     ]
    }
   ],
   "source": [
    "print(\n",
    "    colData.shape,\n",
    "    counts.shape\n",
    ")"
   ]
  },
  {
   "cell_type": "code",
   "execution_count": 29,
   "id": "265d15d9-be12-4938-947a-4cdba536615f",
   "metadata": {},
   "outputs": [
    {
     "data": {
      "text/plain": [
       "'/shared/ifbstor1/projects/mycovirus/script'"
      ]
     },
     "execution_count": 29,
     "metadata": {},
     "output_type": "execute_result"
    }
   ],
   "source": [
    "os.getcwd()"
   ]
  },
  {
   "cell_type": "code",
   "execution_count": 32,
   "id": "cba98f18-004f-4073-8e73-71e1837d740f",
   "metadata": {},
   "outputs": [],
   "source": [
    "colData.reset_index(inplace=True)"
   ]
  },
  {
   "cell_type": "code",
   "execution_count": 34,
   "id": "55320d18-0903-4ed9-9e40-ba04c41a77c8",
   "metadata": {},
   "outputs": [
    {
     "data": {
      "text/html": [
       "<div>\n",
       "<style scoped>\n",
       "    .dataframe tbody tr th:only-of-type {\n",
       "        vertical-align: middle;\n",
       "    }\n",
       "\n",
       "    .dataframe tbody tr th {\n",
       "        vertical-align: top;\n",
       "    }\n",
       "\n",
       "    .dataframe thead th {\n",
       "        text-align: right;\n",
       "    }\n",
       "</style>\n",
       "<table border=\"1\" class=\"dataframe\">\n",
       "  <thead>\n",
       "    <tr style=\"text-align: right;\">\n",
       "      <th></th>\n",
       "      <th>sampleID</th>\n",
       "      <th>group</th>\n",
       "      <th>condition</th>\n",
       "      <th>mycovirus</th>\n",
       "      <th>azoleR</th>\n",
       "    </tr>\n",
       "  </thead>\n",
       "  <tbody>\n",
       "    <tr>\n",
       "      <th>14</th>\n",
       "      <td>souche_12_20</td>\n",
       "      <td>env</td>\n",
       "      <td>virusfree</td>\n",
       "      <td>NaN</td>\n",
       "      <td>no</td>\n",
       "    </tr>\n",
       "  </tbody>\n",
       "</table>\n",
       "</div>"
      ],
      "text/plain": [
       "        sampleID group  condition mycovirus azoleR\n",
       "14  souche_12_20   env  virusfree       NaN     no"
      ]
     },
     "execution_count": 34,
     "metadata": {},
     "output_type": "execute_result"
    }
   ],
   "source": [
    "colData[colData['sampleID']=='souche_12_20']"
   ]
  },
  {
   "cell_type": "code",
   "execution_count": 224,
   "id": "e052337e-5619-4951-89f3-e116236484c2",
   "metadata": {},
   "outputs": [],
   "source": [
    "counts.to_csv('../results/counts_matrix.csv')\n",
    "colData.to_csv('../results/colData.csv')"
   ]
  },
  {
   "cell_type": "code",
   "execution_count": 229,
   "id": "90543913-dfdd-4c4d-a190-57c95a379455",
   "metadata": {},
   "outputs": [],
   "source": [
    "# NAN"
   ]
  },
  {
   "cell_type": "code",
   "execution_count": 237,
   "id": "eed75297-72e3-4e40-a174-349833d9207c",
   "metadata": {},
   "outputs": [],
   "source": [
    "import missingno as msno\n",
    "import matplotlib.pyplot as plt"
   ]
  },
  {
   "cell_type": "code",
   "execution_count": null,
   "id": "23c66799-e3cf-446b-92bc-ca6e5c1e3549",
   "metadata": {},
   "outputs": [],
   "source": [
    "import matplotlib.pyplot as plt\n",
    "\n",
    "labels= ['Mortgage', 'Utilities', 'Food', 'Gas']\n",
    "\n",
    "colors=['blue', 'yellow', 'green', 'orange']\n",
    "\n",
    "sizes= [1500, 600, 500, 300]\n",
    "\n",
    "plt.pie(sizes,labels=labels, colors=colors, startangle=90, autopct='%1.1f%%')\n",
    "\n",
    "plt.axis('equal')\n",
    "\n",
    "plt.show()\n"
   ]
  },
  {
   "cell_type": "code",
   "execution_count": 244,
   "id": "54b258cb-3416-47ac-909e-f7aa3864201c",
   "metadata": {},
   "outputs": [
    {
     "data": {
      "text/plain": [
       "[30, 30, 30, 1]"
      ]
     },
     "execution_count": 244,
     "metadata": {},
     "output_type": "execute_result"
    }
   ],
   "source": []
  },
  {
   "cell_type": "code",
   "execution_count": 251,
   "id": "c25c3db1-e474-423e-bfc6-bdea67ef54a2",
   "metadata": {
    "collapsed": true,
    "jupyter": {
     "outputs_hidden": true
    },
    "tags": []
   },
   "outputs": [
    {
     "data": {
      "image/png": "[encoded data removed]",
      "text/plain": [
       "<Figure size 360x360 with 1 Axes>"
      ]
     },
     "metadata": {},
     "output_type": "display_data"
    },
    {
     "data": {
      "image/png": "[encoded data removed]",
      "text/plain": [
       "<Figure size 360x360 with 1 Axes>"
      ]
     },
     "metadata": {},
     "output_type": "display_data"
    },
    {
     "data": {
      "image/png": "[encoded data removed]",
      "text/plain": [
       "<Figure size 360x360 with 1 Axes>"
      ]
     },
     "metadata": {},
     "output_type": "display_data"
    },
    {
     "data": {
      "image/png": "[encoded data removed]",
      "text/plain": [
       "<Figure size 360x360 with 1 Axes>"
      ]
     },
     "metadata": {},
     "output_type": "display_data"
    }
   ],
   "source": [
    "for col in colData:\n",
    "    plt.figure(figsize=(5,5))\n",
    "    labels = colData[col].value_counts().index.tolist()\n",
    "    sizes = colData[col].value_counts().values.tolist()\n",
    "    plt.pie(sizes, labels=labels, startangle=90, autopct='%1.1f%%')"
   ]
  },
  {
   "cell_type": "code",
   "execution_count": 231,
   "id": "89d4b46c-4bca-49e3-a285-4cc96f73ce51",
   "metadata": {
    "collapsed": true,
    "jupyter": {
     "outputs_hidden": true
    },
    "tags": []
   },
   "outputs": [
    {
     "data": {
      "text/plain": [
       "<AxesSubplot:>"
      ]
     },
     "execution_count": 231,
     "metadata": {},
     "output_type": "execute_result"
    },
    {
     "data": {
      "image/png": "[encoded data removed]",
      "text/plain": [
       "<Figure size 1800x720 with 2 Axes>"
      ]
     },
     "metadata": {
      "needs_background": "light"
     },
     "output_type": "display_data"
    }
   ],
   "source": [
    "# Visualize missing values as a matrix\n",
    "msno.matrix(colData)"
   ]
  },
  {
   "cell_type": "code",
   "execution_count": 252,
   "id": "90f9e342-7404-46ad-a27f-2542ba6e283b",
   "metadata": {},
   "outputs": [
    {
     "data": {
      "text/html": [
       "<div>\n",
       "<style scoped>\n",
       "    .dataframe tbody tr th:only-of-type {\n",
       "        vertical-align: middle;\n",
       "    }\n",
       "\n",
       "    .dataframe tbody tr th {\n",
       "        vertical-align: top;\n",
       "    }\n",
       "\n",
       "    .dataframe thead th {\n",
       "        text-align: right;\n",
       "    }\n",
       "</style>\n",
       "<table border=\"1\" class=\"dataframe\">\n",
       "  <thead>\n",
       "    <tr style=\"text-align: right;\">\n",
       "      <th></th>\n",
       "      <th>group</th>\n",
       "      <th>condition</th>\n",
       "      <th>mycovirus</th>\n",
       "      <th>azoleR</th>\n",
       "    </tr>\n",
       "    <tr>\n",
       "      <th>sampleID</th>\n",
       "      <th></th>\n",
       "      <th></th>\n",
       "      <th></th>\n",
       "      <th></th>\n",
       "    </tr>\n",
       "  </thead>\n",
       "  <tbody>\n",
       "    <tr>\n",
       "      <th>souche_12_37</th>\n",
       "      <td>env</td>\n",
       "      <td>virusfree</td>\n",
       "      <td>NaN</td>\n",
       "      <td>yes</td>\n",
       "    </tr>\n",
       "    <tr>\n",
       "      <th>souche_14_54</th>\n",
       "      <td>env</td>\n",
       "      <td>virusfree</td>\n",
       "      <td>NaN</td>\n",
       "      <td>yes</td>\n",
       "    </tr>\n",
       "    <tr>\n",
       "      <th>souche_69_17</th>\n",
       "      <td>api</td>\n",
       "      <td>virusfree</td>\n",
       "      <td>NaN</td>\n",
       "      <td>yes</td>\n",
       "    </tr>\n",
       "    <tr>\n",
       "      <th>souche_79_06</th>\n",
       "      <td>col</td>\n",
       "      <td>virusfree</td>\n",
       "      <td>NaN</td>\n",
       "      <td>yes</td>\n",
       "    </tr>\n",
       "    <tr>\n",
       "      <th>souche_07_24</th>\n",
       "      <td>env</td>\n",
       "      <td>infected</td>\n",
       "      <td>RNAvirus1</td>\n",
       "      <td>no</td>\n",
       "    </tr>\n",
       "    <tr>\n",
       "      <th>...</th>\n",
       "      <td>...</td>\n",
       "      <td>...</td>\n",
       "      <td>...</td>\n",
       "      <td>...</td>\n",
       "    </tr>\n",
       "    <tr>\n",
       "      <th>souche_77_73</th>\n",
       "      <td>col</td>\n",
       "      <td>infected</td>\n",
       "      <td>botourmiavirus1</td>\n",
       "      <td>no</td>\n",
       "    </tr>\n",
       "    <tr>\n",
       "      <th>souche_78_08</th>\n",
       "      <td>api</td>\n",
       "      <td>virusfree</td>\n",
       "      <td>NaN</td>\n",
       "      <td>no</td>\n",
       "    </tr>\n",
       "    <tr>\n",
       "      <th>souche_78_11</th>\n",
       "      <td>api</td>\n",
       "      <td>virusfree</td>\n",
       "      <td>NaN</td>\n",
       "      <td>no</td>\n",
       "    </tr>\n",
       "    <tr>\n",
       "      <th>souche_78_78</th>\n",
       "      <td>col</td>\n",
       "      <td>virusfree</td>\n",
       "      <td>NaN</td>\n",
       "      <td>no</td>\n",
       "    </tr>\n",
       "    <tr>\n",
       "      <th>souche_af293</th>\n",
       "      <td>excluded</td>\n",
       "      <td>excluded</td>\n",
       "      <td>excluded</td>\n",
       "      <td>excluded</td>\n",
       "    </tr>\n",
       "  </tbody>\n",
       "</table>\n",
       "<p>91 rows × 4 columns</p>\n",
       "</div>"
      ],
      "text/plain": [
       "                 group  condition        mycovirus    azoleR\n",
       "sampleID                                                    \n",
       "souche_12_37       env  virusfree              NaN       yes\n",
       "souche_14_54       env  virusfree              NaN       yes\n",
       "souche_69_17       api  virusfree              NaN       yes\n",
       "souche_79_06       col  virusfree              NaN       yes\n",
       "souche_07_24       env   infected        RNAvirus1        no\n",
       "...                ...        ...              ...       ...\n",
       "souche_77_73       col   infected  botourmiavirus1        no\n",
       "souche_78_08       api  virusfree              NaN        no\n",
       "souche_78_11       api  virusfree              NaN        no\n",
       "souche_78_78       col  virusfree              NaN        no\n",
       "souche_af293  excluded   excluded         excluded  excluded\n",
       "\n",
       "[91 rows x 4 columns]"
      ]
     },
     "execution_count": 252,
     "metadata": {},
     "output_type": "execute_result"
    }
   ],
   "source": [
    "colData"
   ]
  },
  {
   "cell_type": "code",
   "execution_count": null,
   "id": "40a993de-4c49-45f7-9b9b-52953f2d985c",
   "metadata": {},
   "outputs": [],
   "source": []
  }
 ],
 "metadata": {
  "kernelspec": {
   "display_name": "Python 3.7",
   "language": "python",
   "name": "python3"
  },
  "language_info": {
   "codemirror_mode": {
    "name": "ipython",
    "version": 3
   },
   "file_extension": ".py",
   "mimetype": "text/x-python",
   "name": "python",
   "nbconvert_exporter": "python",
   "pygments_lexer": "ipython3",
   "version": "3.7.12"
  }
 },
 "nbformat": 4,
 "nbformat_minor": 5
}
